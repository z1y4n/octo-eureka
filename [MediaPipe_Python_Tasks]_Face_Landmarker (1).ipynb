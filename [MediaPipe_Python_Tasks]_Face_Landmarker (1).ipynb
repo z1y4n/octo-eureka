{
 "cells": [
  {
   "cell_type": "markdown",
   "metadata": {
    "id": "L_cQX8dWu4Dv"
   },
   "source": [
    "# Face Landmarks Detection with MediaPipe Tasks\n",
    "\n",
    "This notebook shows you how to use MediaPipe Tasks Python API to detect face landmarks from images."
   ]
  },
  {
   "cell_type": "markdown",
   "metadata": {
    "id": "O6PN9FvIx614"
   },
   "source": [
    "# Preparation"
   ]
  },
  {
   "cell_type": "code",
   "execution_count": 1,
   "metadata": {
    "id": "OMjuVQiDYJKF"
   },
   "outputs": [],
   "source": [
    "!wget -O face_landmarker_v2_with_blendshapes.task -q https://storage.googleapis.com/mediapipe-models/face_landmarker/face_landmarker/float16/1/face_landmarker.task"
   ]
  },
  {
   "cell_type": "markdown",
   "metadata": {
    "id": "YYKAJ5nDU8-I"
   },
   "source": [
    "## Visualization utilities"
   ]
  },
  {
   "cell_type": "code",
   "execution_count": 2,
   "metadata": {
    "id": "s3E6NFV-00Qt"
   },
   "outputs": [],
   "source": [
    "#@markdown We implemented some functions to visualize the face landmark detection results. <br/> Run the following cell to activate the functions.\n",
    "import mediapipe as mp # type: ignore\n",
    "from mediapipe import solutions # type: ignore\n",
    "from mediapipe.framework.formats import landmark_pb2 # type: ignore\n",
    "import numpy as np # type: ignore\n",
    "import matplotlib.pyplot as plt # type: ignore\n",
    "\n",
    "\n",
    "def draw_landmarks_on_image(rgb_image, detection_result):\n",
    "  face_landmarks_list = detection_result.face_landmarks\n",
    "  annotated_image = np.copy(rgb_image)\n",
    "\n",
    "  # Loop through the detected faces to visualize.\n",
    "  for idx in range(len(face_landmarks_list)):\n",
    "    face_landmarks = face_landmarks_list[idx]\n",
    "\n",
    "    # Draw the face landmarks.\n",
    "    face_landmarks_proto = landmark_pb2.NormalizedLandmarkList()\n",
    "    face_landmarks_proto.landmark.extend([\n",
    "      landmark_pb2.NormalizedLandmark(x=landmark.x, y=landmark.y, z=landmark.z) for landmark in face_landmarks\n",
    "    ])\n",
    "\n",
    "    solutions.drawing_utils.draw_landmarks(\n",
    "        image=annotated_image,\n",
    "        landmark_list=face_landmarks_proto,\n",
    "        connections=mp.solutions.face_mesh.FACEMESH_TESSELATION,\n",
    "        landmark_drawing_spec=None,\n",
    "        connection_drawing_spec=mp.solutions.drawing_styles\n",
    "        .get_default_face_mesh_tesselation_style())\n",
    "    solutions.drawing_utils.draw_landmarks(\n",
    "        image=annotated_image,\n",
    "        landmark_list=face_landmarks_proto,\n",
    "        connections=mp.solutions.face_mesh.FACEMESH_CONTOURS,\n",
    "        landmark_drawing_spec=None,\n",
    "        connection_drawing_spec=mp.solutions.drawing_styles\n",
    "        .get_default_face_mesh_contours_style())\n",
    "    solutions.drawing_utils.draw_landmarks(\n",
    "        image=annotated_image,\n",
    "        landmark_list=face_landmarks_proto,\n",
    "        connections=mp.solutions.face_mesh.FACEMESH_IRISES,\n",
    "          landmark_drawing_spec=None,\n",
    "          connection_drawing_spec=mp.solutions.drawing_styles\n",
    "          .get_default_face_mesh_iris_connections_style())\n",
    "\n",
    "  return annotated_image\n",
    "\n",
    "def plot_face_blendshapes_bar_graph(face_blendshapes):\n",
    "  # Extract the face blendshapes category names and scores.\n",
    "  face_blendshapes_names = [face_blendshapes_category.category_name for face_blendshapes_category in face_blendshapes]\n",
    "  face_blendshapes_scores = [face_blendshapes_category.score for face_blendshapes_category in face_blendshapes]\n",
    "  # The blendshapes are ordered in decreasing score value.\n",
    "  face_blendshapes_ranks = range(len(face_blendshapes_names))\n",
    "\n",
    "  fig, ax = plt.subplots(figsize=(12, 12))\n",
    "  bar = ax.barh(face_blendshapes_ranks, face_blendshapes_scores, label=[str(x) for x in face_blendshapes_ranks])\n",
    "  ax.set_yticks(face_blendshapes_ranks, face_blendshapes_names)\n",
    "  ax.invert_yaxis()\n",
    "\n",
    "  # Label each bar with values\n",
    "  for score, patch in zip(face_blendshapes_scores, bar.patches):\n",
    "    plt.text(patch.get_x() + patch.get_width(), patch.get_y(), f\"{score:.4f}\", va=\"top\")\n",
    "\n",
    "  ax.set_xlabel('Score')\n",
    "  ax.set_title(\"Face Blendshapes\")\n",
    "  plt.tight_layout()\n",
    "  plt.show()\n",
    "\n",
    "def print_eyes_score(face_blendshapes):\n",
    "  face_blendshapes_names = np.array([face_blendshapes_category.category_name for face_blendshapes_category in face_blendshapes])\n",
    "  face_blendshapes_scores = np.array([face_blendshapes_category.score for face_blendshapes_category in face_blendshapes])\n",
    "  eye_blendshapes_names = face_blendshapes_names[9:22]\n",
    "  eye_blendshapes_scores = face_blendshapes_scores[9:22]\n",
    "  \n",
    "    "
   ]
  },
  {
   "cell_type": "markdown",
   "metadata": {
    "id": "83PEJNp9yPBU"
   },
   "source": [
    "## Download test image\n",
    "\n",
    "Let's grab a test image that we'll use later. The image is from [Unsplash](https://unsplash.com/photos/mt2fyrdXxzk)."
   ]
  },
  {
   "cell_type": "code",
   "execution_count": 3,
   "metadata": {
    "id": "tzXuqyIBlXer"
   },
   "outputs": [
    {
     "data": {
      "text/plain": [
       "-1"
      ]
     },
     "execution_count": 3,
     "metadata": {},
     "output_type": "execute_result"
    }
   ],
   "source": [
    "# !wget -q -O image.png https://storage.googleapis.com/mediapipe-assets/business-person.png\n",
    "\n",
    "import cv2\n",
    "\n",
    "img = cv2.imread(\"image.png\")\n",
    "cv2.imshow(\"test\",img)\n",
    "cv2.waitKey(0)"
   ]
  },
  {
   "cell_type": "markdown",
   "metadata": {
    "id": "Iy4r2_ePylIa"
   },
   "source": [
    "## Running inference and visualizing the results\n",
    "\n",
    "Here are the steps to run face landmark detection using MediaPipe.\n",
    "\n",
    "Check out the [MediaPipe documentation](https://developers.google.com/mediapipe/solutions/vision/face_landmarker/python) to learn more about configuration options that this task supports.\n"
   ]
  },
  {
   "cell_type": "code",
   "execution_count": 4,
   "metadata": {
    "id": "_JVO3rvPD4RN"
   },
   "outputs": [
    {
     "name": "stderr",
     "output_type": "stream",
     "text": [
      "c:\\Users\\student\\.conda\\envs\\mediapipe\\lib\\site-packages\\google\\protobuf\\symbol_database.py:55: UserWarning: SymbolDatabase.GetPrototype() is deprecated. Please use message_factory.GetMessageClass() instead. SymbolDatabase.GetPrototype() will be removed soon.\n",
      "  warnings.warn('SymbolDatabase.GetPrototype() is deprecated. Please '\n"
     ]
    },
    {
     "data": {
      "text/plain": [
       "-1"
      ]
     },
     "execution_count": 4,
     "metadata": {},
     "output_type": "execute_result"
    }
   ],
   "source": [
    "# STEP 1: Import the necessary modules.\n",
    "import mediapipe as mp\n",
    "from mediapipe.tasks import python\n",
    "from mediapipe.tasks.python import vision\n",
    "\n",
    "# STEP 2: Create an FaceLandmarker object.\n",
    "base_options = python.BaseOptions(model_asset_path='face_landmarker_v2_with_blendshapes.task')\n",
    "options = vision.FaceLandmarkerOptions(base_options=base_options,\n",
    "                                       output_face_blendshapes=True,\n",
    "                                       output_facial_transformation_matrixes=True,\n",
    "                                       num_faces=1)\n",
    "detector = vision.FaceLandmarker.create_from_options(options)\n",
    "\n",
    "# STEP 3: Load the input image.\n",
    "image = mp.Image.create_from_file(\"image.png\")\n",
    "\n",
    "# STEP 4: Detect face landmarks from the input image.\n",
    "detection_result = detector.detect(image)\n",
    "# STEP 5: Process the detection result. In this case, visualize it.\n",
    "annotated_image = draw_landmarks_on_image(image.numpy_view(), detection_result)\n",
    "cv2.imshow(\"result\", cv2.cvtColor(annotated_image, cv2.COLOR_RGB2BGR))\n",
    "cv2.waitKey(0)"
   ]
  },
  {
   "cell_type": "code",
   "execution_count": 13,
   "metadata": {},
   "outputs": [
    {
     "name": "stdout",
     "output_type": "stream",
     "text": [
      "['eyeBlinkLeft', 'eyeBlinkRight', 'eyeLookDownLeft', 'eyeLookDownRight', 'eyeLookInLeft', 'eyeLookInRight', 'eyeLookOutLeft', 'eyeLookOutRight', 'eyeLookUpLeft', 'eyeLookUpRight', 'eyeSquintLeft', 'eyeSquintRight', 'eyeWideLeft', 'eyeWideRight']\n"
     ]
    }
   ],
   "source": [
    "# plot_face_blendshapes_bar_graph(detection_result.face_blendshapes[0])\n",
    "# print(len((detection_result.face_blendshapes)))\n",
    "\n",
    "face_blendshapes_names = [face_blendshapes_category.category_name for face_blendshapes_category in detection_result.face_blendshapes[0]]\n",
    "face_blendshapes_scores = [face_blendshapes_category.score for face_blendshapes_category in detection_result.face_blendshapes[0]]\n",
    "# face_blendshapes_names = np.array(face_blendshapes_names)\n",
    "# face_blendshapes_scores = np.array(face_blendshapes_scores)\n",
    "upward_score = face_blendshapes_scores[17] + face_blendshapes_scores[18]\n",
    "downward_score = face_blendshapes_scores[11] + face_blendshapes_scores[12]\n",
    "leftward_score = face_blendshapes_scores[14] + face_blendshapes_scores[15]\n",
    "rightward_score = face_blendshapes_scores[13] + face_blendshapes_scores[16]\n",
    "dir_score = np.array([[\"upward\",upward_score], []])\n",
    "\n",
    "eyes_blendshapes_names = face_blendshapes_names[9:23]\n",
    "eyes_blendshapes_scores = face_blendshapes_scores[9:23]\n",
    "\n",
    "print(face_blendshapes_names[9:23])\n"
   ]
  },
  {
   "cell_type": "code",
   "execution_count": null,
   "metadata": {},
   "outputs": [],
   "source": [
    "# import cv2\n",
    "# cap = cv2.VideoCapture(0)\n",
    "# # print(ret_cam)\n",
    "# while True:\n",
    "#     _, frame = cap.read()\n",
    "#     cam_image = mp.Image(image_format=mp.ImageFormat.SRGB, data=frame)   \n",
    "#     detection_result_cam = detector.detect(cam_image)\n",
    "#     annotated_image = draw_landmarks_on_image(cam_image.numpy_view(), detection_result_cam)\n",
    "#     cv2.namedWindow('cam', cv2.WINDOW_AUTOSIZE)\n",
    "#     cv2.imshow(\"cam\", annotated_image)\n",
    "#     print(detection_result_cam.face_blendshapes[0])\n",
    "#     cv2.waitKey(1)\n",
    "#     if cv2.waitKey(1) & 0xFF == ord('q'): \n",
    "#         cap.release()\n",
    "#         cv2.destroyAllWindows()\n",
    "#         break\n"
   ]
  },
  {
   "cell_type": "markdown",
   "metadata": {
    "id": "lKelLdIfwL4V"
   },
   "source": [
    "We will also visualize the face blendshapes categories using a bar graph."
   ]
  },
  {
   "cell_type": "code",
   "execution_count": null,
   "metadata": {
    "id": "l0id2t5Vl83m"
   },
   "outputs": [
    {
     "ename": "AttributeError",
     "evalue": "'list' object has no attribute 'category_name'",
     "output_type": "error",
     "traceback": [
      "\u001b[1;31m---------------------------------------------------------------------------\u001b[0m",
      "\u001b[1;31mAttributeError\u001b[0m                            Traceback (most recent call last)",
      "Cell \u001b[1;32mIn[30], line 4\u001b[0m\n\u001b[0;32m      1\u001b[0m \u001b[38;5;66;03m# plot_face_blendshapes_bar_graph(detection_result.face_blendshapes[0])\u001b[39;00m\n\u001b[0;32m      2\u001b[0m \u001b[38;5;66;03m# print(len((detection_result.face_blendshapes)))\u001b[39;00m\n\u001b[1;32m----> 4\u001b[0m face_blendshapes_names \u001b[38;5;241m=\u001b[39m [face_blendshapes_category\u001b[38;5;241m.\u001b[39mcategory_name \u001b[38;5;28;01mfor\u001b[39;00m face_blendshapes_category \u001b[38;5;129;01min\u001b[39;00m detection_result\u001b[38;5;241m.\u001b[39mface_blendshapes]\n\u001b[0;32m      5\u001b[0m face_blendshapes_scores \u001b[38;5;241m=\u001b[39m [face_blendshapes_category\u001b[38;5;241m.\u001b[39mscore \u001b[38;5;28;01mfor\u001b[39;00m face_blendshapes_category \u001b[38;5;129;01min\u001b[39;00m detection_result\u001b[38;5;241m.\u001b[39mface_blendshapes]\n\u001b[0;32m      6\u001b[0m \u001b[38;5;66;03m# face_blendshapes_names = np.array(face_blendshapes_names)\u001b[39;00m\n\u001b[0;32m      7\u001b[0m \u001b[38;5;66;03m# face_blendshapes_scores = np.array(face_blendshapes_scores)\u001b[39;00m\n",
      "Cell \u001b[1;32mIn[30], line 4\u001b[0m, in \u001b[0;36m<listcomp>\u001b[1;34m(.0)\u001b[0m\n\u001b[0;32m      1\u001b[0m \u001b[38;5;66;03m# plot_face_blendshapes_bar_graph(detection_result.face_blendshapes[0])\u001b[39;00m\n\u001b[0;32m      2\u001b[0m \u001b[38;5;66;03m# print(len((detection_result.face_blendshapes)))\u001b[39;00m\n\u001b[1;32m----> 4\u001b[0m face_blendshapes_names \u001b[38;5;241m=\u001b[39m [\u001b[43mface_blendshapes_category\u001b[49m\u001b[38;5;241;43m.\u001b[39;49m\u001b[43mcategory_name\u001b[49m \u001b[38;5;28;01mfor\u001b[39;00m face_blendshapes_category \u001b[38;5;129;01min\u001b[39;00m detection_result\u001b[38;5;241m.\u001b[39mface_blendshapes]\n\u001b[0;32m      5\u001b[0m face_blendshapes_scores \u001b[38;5;241m=\u001b[39m [face_blendshapes_category\u001b[38;5;241m.\u001b[39mscore \u001b[38;5;28;01mfor\u001b[39;00m face_blendshapes_category \u001b[38;5;129;01min\u001b[39;00m detection_result\u001b[38;5;241m.\u001b[39mface_blendshapes]\n\u001b[0;32m      6\u001b[0m \u001b[38;5;66;03m# face_blendshapes_names = np.array(face_blendshapes_names)\u001b[39;00m\n\u001b[0;32m      7\u001b[0m \u001b[38;5;66;03m# face_blendshapes_scores = np.array(face_blendshapes_scores)\u001b[39;00m\n",
      "\u001b[1;31mAttributeError\u001b[0m: 'list' object has no attribute 'category_name'"
     ]
    }
   ],
   "source": []
  },
  {
   "cell_type": "markdown",
   "metadata": {
    "id": "ckKurV96cG01"
   },
   "source": [
    "And print the transformation matrix."
   ]
  },
  {
   "cell_type": "code",
   "execution_count": null,
   "metadata": {
    "id": "xixKF10-rmse"
   },
   "outputs": [
    {
     "name": "stdout",
     "output_type": "stream",
     "text": [
      "[array([[ 9.92205501e-01, -6.04903474e-02,  1.08946197e-01,\n",
      "         1.18711746e+00],\n",
      "       [ 9.10740122e-02,  9.48733926e-01, -3.02671373e-01,\n",
      "         2.23701134e+01],\n",
      "       [-8.50522369e-02,  3.10234487e-01,  9.46847558e-01,\n",
      "        -6.80049210e+01],\n",
      "       [ 0.00000000e+00,  0.00000000e+00,  0.00000000e+00,\n",
      "         1.00000000e+00]])]\n"
     ]
    }
   ],
   "source": [
    "print(detection_result.facial_transformation_matrixes)"
   ]
  },
  {
   "cell_type": "code",
   "execution_count": null,
   "metadata": {},
   "outputs": [],
   "source": []
  }
 ],
 "metadata": {
  "colab": {
   "provenance": []
  },
  "kernelspec": {
   "display_name": "Python 3 (ipykernel)",
   "language": "python",
   "name": "python3"
  },
  "language_info": {
   "codemirror_mode": {
    "name": "ipython",
    "version": 3
   },
   "file_extension": ".py",
   "mimetype": "text/x-python",
   "name": "python",
   "nbconvert_exporter": "python",
   "pygments_lexer": "ipython3",
   "version": "3.10.14"
  }
 },
 "nbformat": 4,
 "nbformat_minor": 4
}
